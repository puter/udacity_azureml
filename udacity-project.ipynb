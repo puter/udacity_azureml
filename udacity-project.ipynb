{
 "cells": [
  {
   "cell_type": "code",
   "execution_count": null,
   "source": [
    "from azureml.core import Workspace, Experiment\r\n",
    "\r\n",
    "# ws = Workspace.get(name=\"udacity-project\") Must be updated with values from the workspace\r\n",
    "exp = Experiment(workspace=ws, name=\"udacity-project\")\r\n",
    "\r\n",
    "print('Workspace name: ' + ws.name, \r\n",
    "      'Azure region: ' + ws.location, \r\n",
    "      'Subscription id: ' + ws.subscription_id, \r\n",
    "      'Resource group: ' + ws.resource_group, sep = '\\n')\r\n",
    "\r\n",
    "run = exp.start_logging()"
   ],
   "outputs": [],
   "metadata": {
    "gather": {
     "logged": 1598275788035
    }
   }
  },
  {
   "cell_type": "code",
   "execution_count": null,
   "source": [
    "from azureml.core.compute import ComputeTarget, AmlCompute\r\n",
    "\r\n",
    "# TODO: Create compute cluster\r\n",
    "# Use vm_size = \"Standard_D2_V2\" in your provisioning configuration.\r\n",
    "# max_nodes should be no greater than 4.\r\n",
    "\r\n",
    "### YOUR CODE HERE ###\r\n",
    "from azureml.core.compute_target import ComputeTargetException\r\n",
    "cluster_name = \"azuremlCluster\"\r\n",
    "try:\r\n",
    "    compute_cluster = ComputeTarget(workspace=ws, name=cluster_name)\r\n",
    "except ComputeTargetException:\r\n",
    "    compute_config = AmlCompute.provisioning_configuration(vm_size='STANDARD_D2_V2', max_nodes=4)\r\n",
    "    compute_cluster = ComputeTarget.create(ws, cluster_name, compute_config)\r\n",
    "\r\n",
    "compute_cluster.wait_for_completion(show_output=True)"
   ],
   "outputs": [],
   "metadata": {
    "gather": {
     "logged": 1598275788675
    },
    "jupyter": {
     "outputs_hidden": false,
     "source_hidden": false
    },
    "nteract": {
     "transient": {
      "deleting": false
     }
    }
   }
  },
  {
   "cell_type": "code",
   "execution_count": null,
   "source": [
    "from azureml.core import ScriptRunConfig\r\n",
    "from azureml.widgets import RunDetails\r\n",
    "from azureml.train.sklearn import SKLearn\r\n",
    "from azureml.train.hyperdrive.run import PrimaryMetricGoal\r\n",
    "from azureml.train.hyperdrive.policy import BanditPolicy\r\n",
    "from azureml.train.hyperdrive.sampling import RandomParameterSampling\r\n",
    "from azureml.train.hyperdrive.runconfig import HyperDriveConfig\r\n",
    "from azureml.train.hyperdrive.parameter_expressions import uniform, choice\r\n",
    "import os\r\n",
    "from azureml.core import Environment\r\n",
    "\r\n",
    "# Specify an sklearn - enabled environment\r\n",
    "sklearn_env = Environment.from_conda_specification(name='sklearn-env', file_path='dependencies.yml')\r\n",
    "\r\n",
    "# Specify parameter sampler\r\n",
    "ps = RandomParameterSampling(\r\n",
    "    {'C': uniform(0.001, 4.0),\r\n",
    "    'max_iter': choice([1000, 1500, 2000, 2500, 5000])}\r\n",
    ")\r\n",
    "\r\n",
    "# Specify a Policy\r\n",
    "policy = BanditPolicy(slack_factor=0.1, evaluation_interval=2, delay_evaluation=5)\r\n",
    "\r\n",
    "if \"training\" not in os.listdir():\r\n",
    "    os.mkdir(\"./training\")\r\n",
    "\r\n",
    "# Create a SKLearn estimator for use with train.py\r\n",
    "#est = SKLearn(source_directory=\".\", entry_script='train.py', compute_target=compute_cluster)\r\n",
    "est = ScriptRunConfig(source_directory='.', script='train.py', \r\n",
    "    compute_target=compute_cluster,\r\n",
    "    environment=sklearn_env   \r\n",
    ")\r\n",
    "\r\n",
    "# Create a HyperDriveConfig using the estimator, hyperparameter sampler, and policy.\r\n",
    "hyperdrive_config = HyperDriveConfig(\r\n",
    "    run_config=est,\r\n",
    "    hyperparameter_sampling=ps,\r\n",
    "    policy=policy,\r\n",
    "    primary_metric_name=\"Accuracy\",\r\n",
    "    primary_metric_goal=PrimaryMetricGoal.MAXIMIZE,\r\n",
    "    max_total_runs=10\r\n",
    ")"
   ],
   "outputs": [],
   "metadata": {
    "gather": {
     "logged": 1598275789986
    },
    "jupyter": {
     "outputs_hidden": false,
     "source_hidden": false
    },
    "nteract": {
     "transient": {
      "deleting": false
     }
    }
   }
  },
  {
   "cell_type": "code",
   "execution_count": null,
   "source": [
    "# Submit your hyperdrive run to the experiment and show run details with the widget.\r\n",
    "\r\n",
    "### YOUR CODE HERE ###\r\n",
    "experiment = Experiment(ws, \"HyperdriveExperiment\")\r\n",
    "hyperdrive_run = experiment.submit(config=hyperdrive_config)\r\n",
    "hyperdrive_run.wait_for_completion(show_output=True)"
   ],
   "outputs": [],
   "metadata": {}
  },
  {
   "cell_type": "code",
   "execution_count": null,
   "source": [
    "import joblib\r\n",
    "# Get your best run and save the model from that run.\r\n",
    "\r\n",
    "### YOUR CODE HERE ###\r\n",
    "best_run = hyperdrive_run.get_best_run_by_primary_metric()\r\n",
    "\r\n",
    "joblib.dump(best_run, 'model.joblib')\r\n",
    "\r\n",
    "#best_run_metrics = best_run.get_metrics()\r\n",
    "#parameter_values = best_run.get_details()['runDefinition']['arguments']\r\n",
    "\r\n",
    "#print('Best Run Id: ', best_run.id)\r\n",
    "#print('\\n Accuracy:', best_run_metrics['accuracy'])\r\n",
    "\r\n",
    "\r\n"
   ],
   "outputs": [],
   "metadata": {
    "gather": {
     "logged": 1598276310862
    },
    "jupyter": {
     "outputs_hidden": false,
     "source_hidden": false
    },
    "nteract": {
     "transient": {
      "deleting": false
     }
    }
   }
  },
  {
   "cell_type": "code",
   "execution_count": null,
   "source": [
    "from azureml.data.dataset_factory import TabularDatasetFactory\r\n",
    "\r\n",
    "# Create TabularDataset using TabularDatasetFactory\r\n",
    "# Data is available at: \r\n",
    "# \"https://automlsamplenotebookdata.blob.core.windows.net/automl-sample-notebook-data/bankmarketing_train.csv\"\r\n",
    "\r\n",
    "### YOUR CODE HERE ###\r\n",
    "ds = TabularDatasetFactory.from_delimited_files(\"https://automlsamplenotebookdata.blob.core.windows.net/automl-sample-notebook-data/bankmarketing_train.csv\")\r\n"
   ],
   "outputs": [],
   "metadata": {}
  },
  {
   "cell_type": "code",
   "execution_count": null,
   "source": [
    "from train import clean_data\r\n",
    "\r\n",
    "# Use the clean_data function to clean your data.\r\n",
    "x, y = clean_data(ds)"
   ],
   "outputs": [],
   "metadata": {
    "gather": {
     "logged": 1598275726969
    },
    "jupyter": {
     "outputs_hidden": false,
     "source_hidden": false
    },
    "nteract": {
     "transient": {
      "deleting": false
     }
    }
   }
  },
  {
   "cell_type": "code",
   "execution_count": null,
   "source": [
    "from azureml.train.automl import AutoMLConfig\r\n",
    "\r\n",
    "# Set parameters for AutoMLConfig\r\n",
    "# NOTE: DO NOT CHANGE THE experiment_timeout_minutes PARAMETER OR YOUR INSTANCE WILL TIME OUT.\r\n",
    "# If you wish to run the experiment longer, you will need to run this notebook in your own\r\n",
    "# Azure tenant, which will incur personal costs.\r\n",
    "automl_config = AutoMLConfig(\r\n",
    "    experiment_timeout_minutes=30,\r\n",
    "    task=\"classification\",\r\n",
    "    primary_metric=\"Accuracy\",\r\n",
    "    training_data=x,\r\n",
    "    label_column_name=y,\r\n",
    "    n_cross_validations=5,\r\n",
    "    compute_cluster=compute_cluster\r\n",
    ")"
   ],
   "outputs": [],
   "metadata": {
    "gather": {
     "logged": 1598275665403
    },
    "jupyter": {
     "outputs_hidden": false,
     "source_hidden": false
    },
    "nteract": {
     "transient": {
      "deleting": false
     }
    }
   }
  },
  {
   "cell_type": "code",
   "execution_count": 2,
   "source": [
    "# Submit your automl run\r\n",
    "\r\n",
    "### YOUR CODE HERE ###\r\n",
    "automl_experiment = Experiment(ws, 'automl_experiment')\r\n",
    "run = automl_experiment.submit(config=automl_config, show_output=True)"
   ],
   "outputs": [],
   "metadata": {
    "jupyter": {
     "outputs_hidden": false,
     "source_hidden": false
    },
    "nteract": {
     "transient": {
      "deleting": false
     }
    }
   }
  },
  {
   "cell_type": "code",
   "execution_count": null,
   "source": [
    "# Retrieve and save your best automl model.\r\n",
    "\r\n",
    "### YOUR CODE HERE ###"
   ],
   "outputs": [],
   "metadata": {}
  }
 ],
 "metadata": {
  "kernel_info": {
   "name": "python3-azureml"
  },
  "kernelspec": {
   "display_name": "Python 3",
   "language": "python",
   "name": "python3"
  },
  "language_info": {
   "codemirror_mode": {
    "name": "ipython",
    "version": 3
   },
   "file_extension": ".py",
   "mimetype": "text/x-python",
   "name": "python",
   "nbconvert_exporter": "python",
   "pygments_lexer": "ipython3",
   "version": "3.7.4"
  },
  "nteract": {
   "version": "nteract-front-end@1.0.0"
  }
 },
 "nbformat": 4,
 "nbformat_minor": 2
}